{
 "cells": [
  {
   "cell_type": "code",
   "execution_count": 1,
   "id": "d0993f50",
   "metadata": {},
   "outputs": [],
   "source": [
    "import pandas as pd\n"
   ]
  },
  {
   "cell_type": "code",
   "execution_count": 9,
   "id": "967fe242",
   "metadata": {},
   "outputs": [],
   "source": [
    "na_vals = ['NA', 'Missing']\n",
    "df = pd.read_csv('data 2021/survey_results_public.csv', index_col='ResponseId', na_values=na_vals)"
   ]
  },
  {
   "cell_type": "code",
   "execution_count": 10,
   "id": "dccc7b47",
   "metadata": {},
   "outputs": [
    {
     "data": {
      "text/plain": [
       "(83439, 47)"
      ]
     },
     "execution_count": 10,
     "metadata": {},
     "output_type": "execute_result"
    }
   ],
   "source": [
    "df.shape\n",
    "#shows number of rows and colums"
   ]
  },
  {
   "cell_type": "code",
   "execution_count": 11,
   "id": "c179efb7",
   "metadata": {
    "scrolled": true
   },
   "outputs": [
    {
     "name": "stdout",
     "output_type": "stream",
     "text": [
      "<class 'pandas.core.frame.DataFrame'>\n",
      "Int64Index: 83439 entries, 1 to 83439\n",
      "Data columns (total 47 columns):\n",
      " #   Column                        Non-Null Count  Dtype  \n",
      "---  ------                        --------------  -----  \n",
      " 0   MainBranch                    83439 non-null  object \n",
      " 1   Employment                    83323 non-null  object \n",
      " 2   Country                       83439 non-null  object \n",
      " 3   US_State                      14920 non-null  object \n",
      " 4   UK_Country                    4418 non-null   object \n",
      " 5   EdLevel                       83126 non-null  object \n",
      " 6   Age1stCode                    83243 non-null  object \n",
      " 7   LearnCode                     82963 non-null  object \n",
      " 8   YearsCode                     81641 non-null  object \n",
      " 9   YearsCodePro                  61216 non-null  object \n",
      " 10  DevType                       66484 non-null  object \n",
      " 11  OrgSize                       60726 non-null  object \n",
      " 12  Currency                      61080 non-null  object \n",
      " 13  CompTotal                     47183 non-null  float64\n",
      " 14  CompFreq                      52150 non-null  object \n",
      " 15  LanguageHaveWorkedWith        82357 non-null  object \n",
      " 16  LanguageWantToWorkWith        76821 non-null  object \n",
      " 17  DatabaseHaveWorkedWith        69546 non-null  object \n",
      " 18  DatabaseWantToWorkWith        58299 non-null  object \n",
      " 19  PlatformHaveWorkedWith        52135 non-null  object \n",
      " 20  PlatformWantToWorkWith        41619 non-null  object \n",
      " 21  WebframeHaveWorkedWith        61707 non-null  object \n",
      " 22  WebframeWantToWorkWith        52095 non-null  object \n",
      " 23  MiscTechHaveWorkedWith        47055 non-null  object \n",
      " 24  MiscTechWantToWorkWith        38021 non-null  object \n",
      " 25  ToolsTechHaveWorkedWith       72537 non-null  object \n",
      " 26  ToolsTechWantToWorkWith       65480 non-null  object \n",
      " 27  NEWCollabToolsHaveWorkedWith  81234 non-null  object \n",
      " 28  NEWCollabToolsWantToWorkWith  73022 non-null  object \n",
      " 29  OpSys                         83294 non-null  object \n",
      " 30  NEWStuck                      83052 non-null  object \n",
      " 31  NEWSOSites                    83171 non-null  object \n",
      " 32  SOVisitFreq                   82413 non-null  object \n",
      " 33  SOAccount                     82525 non-null  object \n",
      " 34  SOPartFreq                    67553 non-null  object \n",
      " 35  SOComm                        82319 non-null  object \n",
      " 36  NEWOtherComms                 82828 non-null  object \n",
      " 37  Age                           82407 non-null  object \n",
      " 38  Gender                        82286 non-null  object \n",
      " 39  Trans                         80678 non-null  object \n",
      " 40  Sexuality                     73366 non-null  object \n",
      " 41  Ethnicity                     79464 non-null  object \n",
      " 42  Accessibility                 77603 non-null  object \n",
      " 43  MentalHealth                  76920 non-null  object \n",
      " 44  SurveyLength                  81711 non-null  object \n",
      " 45  SurveyEase                    81948 non-null  object \n",
      " 46  ConvertedCompYearly           46844 non-null  float64\n",
      "dtypes: float64(2), object(45)\n",
      "memory usage: 30.6+ MB\n"
     ]
    }
   ],
   "source": [
    "df.info()"
   ]
  },
  {
   "cell_type": "code",
   "execution_count": 13,
   "id": "149fabd0",
   "metadata": {},
   "outputs": [],
   "source": [
    "pd.set_option('display.max_columns', 48)\n",
    "pd.set_option('display.max_rows', 48)\n",
    "#setting how data is dsiplay with full column"
   ]
  },
  {
   "cell_type": "code",
   "execution_count": 14,
   "id": "e13b0d4e",
   "metadata": {
    "scrolled": true
   },
   "outputs": [
    {
     "data": {
      "text/html": [
       "<div>\n",
       "<style scoped>\n",
       "    .dataframe tbody tr th:only-of-type {\n",
       "        vertical-align: middle;\n",
       "    }\n",
       "\n",
       "    .dataframe tbody tr th {\n",
       "        vertical-align: top;\n",
       "    }\n",
       "\n",
       "    .dataframe thead th {\n",
       "        text-align: right;\n",
       "    }\n",
       "</style>\n",
       "<table border=\"1\" class=\"dataframe\">\n",
       "  <thead>\n",
       "    <tr style=\"text-align: right;\">\n",
       "      <th></th>\n",
       "      <th>MainBranch</th>\n",
       "      <th>Employment</th>\n",
       "      <th>Country</th>\n",
       "      <th>US_State</th>\n",
       "      <th>UK_Country</th>\n",
       "      <th>EdLevel</th>\n",
       "      <th>Age1stCode</th>\n",
       "      <th>LearnCode</th>\n",
       "      <th>YearsCode</th>\n",
       "      <th>YearsCodePro</th>\n",
       "      <th>DevType</th>\n",
       "      <th>OrgSize</th>\n",
       "      <th>Currency</th>\n",
       "      <th>CompTotal</th>\n",
       "      <th>CompFreq</th>\n",
       "      <th>LanguageHaveWorkedWith</th>\n",
       "      <th>LanguageWantToWorkWith</th>\n",
       "      <th>DatabaseHaveWorkedWith</th>\n",
       "      <th>DatabaseWantToWorkWith</th>\n",
       "      <th>PlatformHaveWorkedWith</th>\n",
       "      <th>PlatformWantToWorkWith</th>\n",
       "      <th>WebframeHaveWorkedWith</th>\n",
       "      <th>WebframeWantToWorkWith</th>\n",
       "      <th>MiscTechHaveWorkedWith</th>\n",
       "      <th>MiscTechWantToWorkWith</th>\n",
       "      <th>ToolsTechHaveWorkedWith</th>\n",
       "      <th>ToolsTechWantToWorkWith</th>\n",
       "      <th>NEWCollabToolsHaveWorkedWith</th>\n",
       "      <th>NEWCollabToolsWantToWorkWith</th>\n",
       "      <th>OpSys</th>\n",
       "      <th>NEWStuck</th>\n",
       "      <th>NEWSOSites</th>\n",
       "      <th>SOVisitFreq</th>\n",
       "      <th>SOAccount</th>\n",
       "      <th>SOPartFreq</th>\n",
       "      <th>SOComm</th>\n",
       "      <th>NEWOtherComms</th>\n",
       "      <th>Age</th>\n",
       "      <th>Gender</th>\n",
       "      <th>Trans</th>\n",
       "      <th>Sexuality</th>\n",
       "      <th>Ethnicity</th>\n",
       "      <th>Accessibility</th>\n",
       "      <th>MentalHealth</th>\n",
       "      <th>SurveyLength</th>\n",
       "      <th>SurveyEase</th>\n",
       "      <th>ConvertedCompYearly</th>\n",
       "    </tr>\n",
       "    <tr>\n",
       "      <th>ResponseId</th>\n",
       "      <th></th>\n",
       "      <th></th>\n",
       "      <th></th>\n",
       "      <th></th>\n",
       "      <th></th>\n",
       "      <th></th>\n",
       "      <th></th>\n",
       "      <th></th>\n",
       "      <th></th>\n",
       "      <th></th>\n",
       "      <th></th>\n",
       "      <th></th>\n",
       "      <th></th>\n",
       "      <th></th>\n",
       "      <th></th>\n",
       "      <th></th>\n",
       "      <th></th>\n",
       "      <th></th>\n",
       "      <th></th>\n",
       "      <th></th>\n",
       "      <th></th>\n",
       "      <th></th>\n",
       "      <th></th>\n",
       "      <th></th>\n",
       "      <th></th>\n",
       "      <th></th>\n",
       "      <th></th>\n",
       "      <th></th>\n",
       "      <th></th>\n",
       "      <th></th>\n",
       "      <th></th>\n",
       "      <th></th>\n",
       "      <th></th>\n",
       "      <th></th>\n",
       "      <th></th>\n",
       "      <th></th>\n",
       "      <th></th>\n",
       "      <th></th>\n",
       "      <th></th>\n",
       "      <th></th>\n",
       "      <th></th>\n",
       "      <th></th>\n",
       "      <th></th>\n",
       "      <th></th>\n",
       "      <th></th>\n",
       "      <th></th>\n",
       "      <th></th>\n",
       "    </tr>\n",
       "  </thead>\n",
       "  <tbody>\n",
       "    <tr>\n",
       "      <th>1</th>\n",
       "      <td>I am a developer by profession</td>\n",
       "      <td>Independent contractor, freelancer, or self-em...</td>\n",
       "      <td>Slovakia</td>\n",
       "      <td>NaN</td>\n",
       "      <td>NaN</td>\n",
       "      <td>Secondary school (e.g. American high school, G...</td>\n",
       "      <td>18 - 24 years</td>\n",
       "      <td>Coding Bootcamp;Other online resources (ex: vi...</td>\n",
       "      <td>NaN</td>\n",
       "      <td>NaN</td>\n",
       "      <td>Developer, mobile</td>\n",
       "      <td>20 to 99 employees</td>\n",
       "      <td>EUR European Euro</td>\n",
       "      <td>4800.0</td>\n",
       "      <td>Monthly</td>\n",
       "      <td>C++;HTML/CSS;JavaScript;Objective-C;PHP;Swift</td>\n",
       "      <td>Swift</td>\n",
       "      <td>PostgreSQL;SQLite</td>\n",
       "      <td>SQLite</td>\n",
       "      <td>NaN</td>\n",
       "      <td>NaN</td>\n",
       "      <td>Laravel;Symfony</td>\n",
       "      <td>NaN</td>\n",
       "      <td>NaN</td>\n",
       "      <td>NaN</td>\n",
       "      <td>NaN</td>\n",
       "      <td>NaN</td>\n",
       "      <td>PHPStorm;Xcode</td>\n",
       "      <td>Atom;Xcode</td>\n",
       "      <td>MacOS</td>\n",
       "      <td>Call a coworker or friend;Visit Stack Overflow...</td>\n",
       "      <td>Stack Overflow</td>\n",
       "      <td>Multiple times per day</td>\n",
       "      <td>Yes</td>\n",
       "      <td>A few times per month or weekly</td>\n",
       "      <td>Yes, definitely</td>\n",
       "      <td>No</td>\n",
       "      <td>25-34 years old</td>\n",
       "      <td>Man</td>\n",
       "      <td>No</td>\n",
       "      <td>Straight / Heterosexual</td>\n",
       "      <td>White or of European descent</td>\n",
       "      <td>None of the above</td>\n",
       "      <td>None of the above</td>\n",
       "      <td>Appropriate in length</td>\n",
       "      <td>Easy</td>\n",
       "      <td>62268.0</td>\n",
       "    </tr>\n",
       "    <tr>\n",
       "      <th>2</th>\n",
       "      <td>I am a student who is learning to code</td>\n",
       "      <td>Student, full-time</td>\n",
       "      <td>Netherlands</td>\n",
       "      <td>NaN</td>\n",
       "      <td>NaN</td>\n",
       "      <td>Bachelor’s degree (B.A., B.S., B.Eng., etc.)</td>\n",
       "      <td>11 - 17 years</td>\n",
       "      <td>Other online resources (ex: videos, blogs, etc...</td>\n",
       "      <td>7</td>\n",
       "      <td>NaN</td>\n",
       "      <td>NaN</td>\n",
       "      <td>NaN</td>\n",
       "      <td>NaN</td>\n",
       "      <td>NaN</td>\n",
       "      <td>NaN</td>\n",
       "      <td>JavaScript;Python</td>\n",
       "      <td>NaN</td>\n",
       "      <td>PostgreSQL</td>\n",
       "      <td>NaN</td>\n",
       "      <td>NaN</td>\n",
       "      <td>NaN</td>\n",
       "      <td>Angular;Flask;Vue.js</td>\n",
       "      <td>NaN</td>\n",
       "      <td>Cordova</td>\n",
       "      <td>NaN</td>\n",
       "      <td>Docker;Git;Yarn</td>\n",
       "      <td>Git</td>\n",
       "      <td>Android Studio;IntelliJ;Notepad++;PyCharm</td>\n",
       "      <td>NaN</td>\n",
       "      <td>Windows</td>\n",
       "      <td>Visit Stack Overflow;Google it</td>\n",
       "      <td>Stack Overflow</td>\n",
       "      <td>Daily or almost daily</td>\n",
       "      <td>Yes</td>\n",
       "      <td>Daily or almost daily</td>\n",
       "      <td>Yes, definitely</td>\n",
       "      <td>No</td>\n",
       "      <td>18-24 years old</td>\n",
       "      <td>Man</td>\n",
       "      <td>No</td>\n",
       "      <td>Straight / Heterosexual</td>\n",
       "      <td>White or of European descent</td>\n",
       "      <td>None of the above</td>\n",
       "      <td>None of the above</td>\n",
       "      <td>Appropriate in length</td>\n",
       "      <td>Easy</td>\n",
       "      <td>NaN</td>\n",
       "    </tr>\n",
       "    <tr>\n",
       "      <th>3</th>\n",
       "      <td>I am not primarily a developer, but I write co...</td>\n",
       "      <td>Student, full-time</td>\n",
       "      <td>Russian Federation</td>\n",
       "      <td>NaN</td>\n",
       "      <td>NaN</td>\n",
       "      <td>Bachelor’s degree (B.A., B.S., B.Eng., etc.)</td>\n",
       "      <td>11 - 17 years</td>\n",
       "      <td>Other online resources (ex: videos, blogs, etc...</td>\n",
       "      <td>NaN</td>\n",
       "      <td>NaN</td>\n",
       "      <td>NaN</td>\n",
       "      <td>NaN</td>\n",
       "      <td>NaN</td>\n",
       "      <td>NaN</td>\n",
       "      <td>NaN</td>\n",
       "      <td>Assembly;C;Python;R;Rust</td>\n",
       "      <td>Julia;Python;Rust</td>\n",
       "      <td>SQLite</td>\n",
       "      <td>SQLite</td>\n",
       "      <td>Heroku</td>\n",
       "      <td>NaN</td>\n",
       "      <td>Flask</td>\n",
       "      <td>Flask</td>\n",
       "      <td>NumPy;Pandas;TensorFlow;Torch/PyTorch</td>\n",
       "      <td>Keras;NumPy;Pandas;TensorFlow;Torch/PyTorch</td>\n",
       "      <td>NaN</td>\n",
       "      <td>NaN</td>\n",
       "      <td>IPython/Jupyter;PyCharm;RStudio;Sublime Text;V...</td>\n",
       "      <td>IPython/Jupyter;RStudio;Sublime Text;Visual St...</td>\n",
       "      <td>MacOS</td>\n",
       "      <td>Visit Stack Overflow;Google it;Watch help / tu...</td>\n",
       "      <td>Stack Overflow;Stack Exchange</td>\n",
       "      <td>Multiple times per day</td>\n",
       "      <td>Yes</td>\n",
       "      <td>Multiple times per day</td>\n",
       "      <td>Yes, definitely</td>\n",
       "      <td>Yes</td>\n",
       "      <td>18-24 years old</td>\n",
       "      <td>Man</td>\n",
       "      <td>No</td>\n",
       "      <td>Prefer not to say</td>\n",
       "      <td>Prefer not to say</td>\n",
       "      <td>None of the above</td>\n",
       "      <td>None of the above</td>\n",
       "      <td>Appropriate in length</td>\n",
       "      <td>Easy</td>\n",
       "      <td>NaN</td>\n",
       "    </tr>\n",
       "    <tr>\n",
       "      <th>4</th>\n",
       "      <td>I am a developer by profession</td>\n",
       "      <td>Employed full-time</td>\n",
       "      <td>Austria</td>\n",
       "      <td>NaN</td>\n",
       "      <td>NaN</td>\n",
       "      <td>Master’s degree (M.A., M.S., M.Eng., MBA, etc.)</td>\n",
       "      <td>11 - 17 years</td>\n",
       "      <td>NaN</td>\n",
       "      <td>NaN</td>\n",
       "      <td>NaN</td>\n",
       "      <td>Developer, front-end</td>\n",
       "      <td>100 to 499 employees</td>\n",
       "      <td>EUR European Euro</td>\n",
       "      <td>NaN</td>\n",
       "      <td>Monthly</td>\n",
       "      <td>JavaScript;TypeScript</td>\n",
       "      <td>JavaScript;TypeScript</td>\n",
       "      <td>NaN</td>\n",
       "      <td>NaN</td>\n",
       "      <td>NaN</td>\n",
       "      <td>NaN</td>\n",
       "      <td>Angular;jQuery</td>\n",
       "      <td>Angular;jQuery</td>\n",
       "      <td>NaN</td>\n",
       "      <td>NaN</td>\n",
       "      <td>NaN</td>\n",
       "      <td>NaN</td>\n",
       "      <td>NaN</td>\n",
       "      <td>NaN</td>\n",
       "      <td>Windows</td>\n",
       "      <td>Call a coworker or friend;Visit Stack Overflow...</td>\n",
       "      <td>Stack Overflow</td>\n",
       "      <td>Daily or almost daily</td>\n",
       "      <td>Yes</td>\n",
       "      <td>Daily or almost daily</td>\n",
       "      <td>Neutral</td>\n",
       "      <td>No</td>\n",
       "      <td>35-44 years old</td>\n",
       "      <td>Man</td>\n",
       "      <td>No</td>\n",
       "      <td>Straight / Heterosexual</td>\n",
       "      <td>White or of European descent</td>\n",
       "      <td>I am deaf / hard of hearing</td>\n",
       "      <td>NaN</td>\n",
       "      <td>Appropriate in length</td>\n",
       "      <td>Neither easy nor difficult</td>\n",
       "      <td>NaN</td>\n",
       "    </tr>\n",
       "    <tr>\n",
       "      <th>5</th>\n",
       "      <td>I am a developer by profession</td>\n",
       "      <td>Independent contractor, freelancer, or self-em...</td>\n",
       "      <td>United Kingdom of Great Britain and Northern I...</td>\n",
       "      <td>NaN</td>\n",
       "      <td>England</td>\n",
       "      <td>Master’s degree (M.A., M.S., M.Eng., MBA, etc.)</td>\n",
       "      <td>5 - 10 years</td>\n",
       "      <td>Friend or family member</td>\n",
       "      <td>17</td>\n",
       "      <td>10</td>\n",
       "      <td>Developer, desktop or enterprise applications;...</td>\n",
       "      <td>Just me - I am a freelancer, sole proprietor, ...</td>\n",
       "      <td>GBP\\tPound sterling</td>\n",
       "      <td>NaN</td>\n",
       "      <td>NaN</td>\n",
       "      <td>Bash/Shell;HTML/CSS;Python;SQL</td>\n",
       "      <td>Bash/Shell;HTML/CSS;Python;SQL</td>\n",
       "      <td>Elasticsearch;PostgreSQL;Redis</td>\n",
       "      <td>Cassandra;Elasticsearch;PostgreSQL;Redis</td>\n",
       "      <td>NaN</td>\n",
       "      <td>NaN</td>\n",
       "      <td>Flask</td>\n",
       "      <td>Flask</td>\n",
       "      <td>Apache Spark;Hadoop;NumPy;Pandas</td>\n",
       "      <td>Hadoop;NumPy;Pandas</td>\n",
       "      <td>Docker;Git;Kubernetes;Yarn</td>\n",
       "      <td>Docker;Git;Kubernetes;Yarn</td>\n",
       "      <td>Atom;IPython/Jupyter;Notepad++;PyCharm;Vim</td>\n",
       "      <td>Atom;IPython/Jupyter;Notepad++;PyCharm;Vim;Vis...</td>\n",
       "      <td>Linux-based</td>\n",
       "      <td>Visit Stack Overflow;Go for a walk or other ph...</td>\n",
       "      <td>Stack Overflow;Stack Exchange</td>\n",
       "      <td>Daily or almost daily</td>\n",
       "      <td>Yes</td>\n",
       "      <td>A few times per week</td>\n",
       "      <td>Yes, somewhat</td>\n",
       "      <td>No</td>\n",
       "      <td>25-34 years old</td>\n",
       "      <td>Man</td>\n",
       "      <td>No</td>\n",
       "      <td>NaN</td>\n",
       "      <td>White or of European descent</td>\n",
       "      <td>None of the above</td>\n",
       "      <td>NaN</td>\n",
       "      <td>Appropriate in length</td>\n",
       "      <td>Easy</td>\n",
       "      <td>NaN</td>\n",
       "    </tr>\n",
       "  </tbody>\n",
       "</table>\n",
       "</div>"
      ],
      "text/plain": [
       "                                                   MainBranch  \\\n",
       "ResponseId                                                      \n",
       "1                              I am a developer by profession   \n",
       "2                      I am a student who is learning to code   \n",
       "3           I am not primarily a developer, but I write co...   \n",
       "4                              I am a developer by profession   \n",
       "5                              I am a developer by profession   \n",
       "\n",
       "                                                   Employment  \\\n",
       "ResponseId                                                      \n",
       "1           Independent contractor, freelancer, or self-em...   \n",
       "2                                          Student, full-time   \n",
       "3                                          Student, full-time   \n",
       "4                                          Employed full-time   \n",
       "5           Independent contractor, freelancer, or self-em...   \n",
       "\n",
       "                                                      Country US_State  \\\n",
       "ResponseId                                                               \n",
       "1                                                    Slovakia      NaN   \n",
       "2                                                 Netherlands      NaN   \n",
       "3                                          Russian Federation      NaN   \n",
       "4                                                     Austria      NaN   \n",
       "5           United Kingdom of Great Britain and Northern I...      NaN   \n",
       "\n",
       "           UK_Country                                            EdLevel  \\\n",
       "ResponseId                                                                 \n",
       "1                 NaN  Secondary school (e.g. American high school, G...   \n",
       "2                 NaN       Bachelor’s degree (B.A., B.S., B.Eng., etc.)   \n",
       "3                 NaN       Bachelor’s degree (B.A., B.S., B.Eng., etc.)   \n",
       "4                 NaN    Master’s degree (M.A., M.S., M.Eng., MBA, etc.)   \n",
       "5             England    Master’s degree (M.A., M.S., M.Eng., MBA, etc.)   \n",
       "\n",
       "               Age1stCode                                          LearnCode  \\\n",
       "ResponseId                                                                     \n",
       "1           18 - 24 years  Coding Bootcamp;Other online resources (ex: vi...   \n",
       "2           11 - 17 years  Other online resources (ex: videos, blogs, etc...   \n",
       "3           11 - 17 years  Other online resources (ex: videos, blogs, etc...   \n",
       "4           11 - 17 years                                                NaN   \n",
       "5            5 - 10 years                            Friend or family member   \n",
       "\n",
       "           YearsCode YearsCodePro  \\\n",
       "ResponseId                          \n",
       "1                NaN          NaN   \n",
       "2                  7          NaN   \n",
       "3                NaN          NaN   \n",
       "4                NaN          NaN   \n",
       "5                 17           10   \n",
       "\n",
       "                                                      DevType  \\\n",
       "ResponseId                                                      \n",
       "1                                           Developer, mobile   \n",
       "2                                                         NaN   \n",
       "3                                                         NaN   \n",
       "4                                        Developer, front-end   \n",
       "5           Developer, desktop or enterprise applications;...   \n",
       "\n",
       "                                                      OrgSize  \\\n",
       "ResponseId                                                      \n",
       "1                                          20 to 99 employees   \n",
       "2                                                         NaN   \n",
       "3                                                         NaN   \n",
       "4                                        100 to 499 employees   \n",
       "5           Just me - I am a freelancer, sole proprietor, ...   \n",
       "\n",
       "                       Currency  CompTotal CompFreq  \\\n",
       "ResponseId                                            \n",
       "1             EUR European Euro     4800.0  Monthly   \n",
       "2                           NaN        NaN      NaN   \n",
       "3                           NaN        NaN      NaN   \n",
       "4             EUR European Euro        NaN  Monthly   \n",
       "5           GBP\\tPound sterling        NaN      NaN   \n",
       "\n",
       "                                   LanguageHaveWorkedWith  \\\n",
       "ResponseId                                                  \n",
       "1           C++;HTML/CSS;JavaScript;Objective-C;PHP;Swift   \n",
       "2                                       JavaScript;Python   \n",
       "3                                Assembly;C;Python;R;Rust   \n",
       "4                                   JavaScript;TypeScript   \n",
       "5                          Bash/Shell;HTML/CSS;Python;SQL   \n",
       "\n",
       "                    LanguageWantToWorkWith          DatabaseHaveWorkedWith  \\\n",
       "ResponseId                                                                   \n",
       "1                                    Swift               PostgreSQL;SQLite   \n",
       "2                                      NaN                      PostgreSQL   \n",
       "3                        Julia;Python;Rust                          SQLite   \n",
       "4                    JavaScript;TypeScript                             NaN   \n",
       "5           Bash/Shell;HTML/CSS;Python;SQL  Elasticsearch;PostgreSQL;Redis   \n",
       "\n",
       "                              DatabaseWantToWorkWith PlatformHaveWorkedWith  \\\n",
       "ResponseId                                                                    \n",
       "1                                             SQLite                    NaN   \n",
       "2                                                NaN                    NaN   \n",
       "3                                             SQLite                 Heroku   \n",
       "4                                                NaN                    NaN   \n",
       "5           Cassandra;Elasticsearch;PostgreSQL;Redis                    NaN   \n",
       "\n",
       "           PlatformWantToWorkWith WebframeHaveWorkedWith  \\\n",
       "ResponseId                                                 \n",
       "1                             NaN        Laravel;Symfony   \n",
       "2                             NaN   Angular;Flask;Vue.js   \n",
       "3                             NaN                  Flask   \n",
       "4                             NaN         Angular;jQuery   \n",
       "5                             NaN                  Flask   \n",
       "\n",
       "           WebframeWantToWorkWith                 MiscTechHaveWorkedWith  \\\n",
       "ResponseId                                                                 \n",
       "1                             NaN                                    NaN   \n",
       "2                             NaN                                Cordova   \n",
       "3                           Flask  NumPy;Pandas;TensorFlow;Torch/PyTorch   \n",
       "4                  Angular;jQuery                                    NaN   \n",
       "5                           Flask       Apache Spark;Hadoop;NumPy;Pandas   \n",
       "\n",
       "                                 MiscTechWantToWorkWith  \\\n",
       "ResponseId                                                \n",
       "1                                                   NaN   \n",
       "2                                                   NaN   \n",
       "3           Keras;NumPy;Pandas;TensorFlow;Torch/PyTorch   \n",
       "4                                                   NaN   \n",
       "5                                   Hadoop;NumPy;Pandas   \n",
       "\n",
       "               ToolsTechHaveWorkedWith     ToolsTechWantToWorkWith  \\\n",
       "ResponseId                                                           \n",
       "1                                  NaN                         NaN   \n",
       "2                      Docker;Git;Yarn                         Git   \n",
       "3                                  NaN                         NaN   \n",
       "4                                  NaN                         NaN   \n",
       "5           Docker;Git;Kubernetes;Yarn  Docker;Git;Kubernetes;Yarn   \n",
       "\n",
       "                                 NEWCollabToolsHaveWorkedWith  \\\n",
       "ResponseId                                                      \n",
       "1                                              PHPStorm;Xcode   \n",
       "2                   Android Studio;IntelliJ;Notepad++;PyCharm   \n",
       "3           IPython/Jupyter;PyCharm;RStudio;Sublime Text;V...   \n",
       "4                                                         NaN   \n",
       "5                  Atom;IPython/Jupyter;Notepad++;PyCharm;Vim   \n",
       "\n",
       "                                 NEWCollabToolsWantToWorkWith        OpSys  \\\n",
       "ResponseId                                                                   \n",
       "1                                                  Atom;Xcode        MacOS   \n",
       "2                                                         NaN      Windows   \n",
       "3           IPython/Jupyter;RStudio;Sublime Text;Visual St...        MacOS   \n",
       "4                                                         NaN      Windows   \n",
       "5           Atom;IPython/Jupyter;Notepad++;PyCharm;Vim;Vis...  Linux-based   \n",
       "\n",
       "                                                     NEWStuck  \\\n",
       "ResponseId                                                      \n",
       "1           Call a coworker or friend;Visit Stack Overflow...   \n",
       "2                              Visit Stack Overflow;Google it   \n",
       "3           Visit Stack Overflow;Google it;Watch help / tu...   \n",
       "4           Call a coworker or friend;Visit Stack Overflow...   \n",
       "5           Visit Stack Overflow;Go for a walk or other ph...   \n",
       "\n",
       "                               NEWSOSites             SOVisitFreq SOAccount  \\\n",
       "ResponseId                                                                    \n",
       "1                          Stack Overflow  Multiple times per day       Yes   \n",
       "2                          Stack Overflow   Daily or almost daily       Yes   \n",
       "3           Stack Overflow;Stack Exchange  Multiple times per day       Yes   \n",
       "4                          Stack Overflow   Daily or almost daily       Yes   \n",
       "5           Stack Overflow;Stack Exchange   Daily or almost daily       Yes   \n",
       "\n",
       "                                 SOPartFreq           SOComm NEWOtherComms  \\\n",
       "ResponseId                                                                   \n",
       "1           A few times per month or weekly  Yes, definitely            No   \n",
       "2                     Daily or almost daily  Yes, definitely            No   \n",
       "3                    Multiple times per day  Yes, definitely           Yes   \n",
       "4                     Daily or almost daily          Neutral            No   \n",
       "5                      A few times per week    Yes, somewhat            No   \n",
       "\n",
       "                        Age Gender Trans                Sexuality  \\\n",
       "ResponseId                                                          \n",
       "1           25-34 years old    Man    No  Straight / Heterosexual   \n",
       "2           18-24 years old    Man    No  Straight / Heterosexual   \n",
       "3           18-24 years old    Man    No        Prefer not to say   \n",
       "4           35-44 years old    Man    No  Straight / Heterosexual   \n",
       "5           25-34 years old    Man    No                      NaN   \n",
       "\n",
       "                               Ethnicity                Accessibility  \\\n",
       "ResponseId                                                              \n",
       "1           White or of European descent            None of the above   \n",
       "2           White or of European descent            None of the above   \n",
       "3                      Prefer not to say            None of the above   \n",
       "4           White or of European descent  I am deaf / hard of hearing   \n",
       "5           White or of European descent            None of the above   \n",
       "\n",
       "                 MentalHealth           SurveyLength  \\\n",
       "ResponseId                                             \n",
       "1           None of the above  Appropriate in length   \n",
       "2           None of the above  Appropriate in length   \n",
       "3           None of the above  Appropriate in length   \n",
       "4                         NaN  Appropriate in length   \n",
       "5                         NaN  Appropriate in length   \n",
       "\n",
       "                            SurveyEase  ConvertedCompYearly  \n",
       "ResponseId                                                   \n",
       "1                                 Easy              62268.0  \n",
       "2                                 Easy                  NaN  \n",
       "3                                 Easy                  NaN  \n",
       "4           Neither easy nor difficult                  NaN  \n",
       "5                                 Easy                  NaN  "
      ]
     },
     "execution_count": 14,
     "metadata": {},
     "output_type": "execute_result"
    }
   ],
   "source": [
    "df.head()"
   ]
  },
  {
   "cell_type": "code",
   "execution_count": 7,
   "id": "e34a216e",
   "metadata": {},
   "outputs": [],
   "source": [
    "df.rename(columns = {'Age1stCode':'Age'}, inplace=True)\n",
    "#changing column name"
   ]
  },
  {
   "cell_type": "code",
   "execution_count": 8,
   "id": "3000ee2d",
   "metadata": {},
   "outputs": [
    {
     "ename": "ValueError",
     "evalue": "Invalid call for scalar access (setting)!",
     "output_type": "error",
     "traceback": [
      "\u001b[0;31m---------------------------------------------------------------------------\u001b[0m",
      "\u001b[0;31mValueError\u001b[0m                                Traceback (most recent call last)",
      "\u001b[0;32m<ipython-input-8-4ca6148ba84d>\u001b[0m in \u001b[0;36m<module>\u001b[0;34m\u001b[0m\n\u001b[1;32m      4\u001b[0m \u001b[0;31m#changing multiple row values\u001b[0m\u001b[0;34m\u001b[0m\u001b[0;34m\u001b[0m\u001b[0;34m\u001b[0m\u001b[0m\n\u001b[1;32m      5\u001b[0m \u001b[0;31m#OR\u001b[0m\u001b[0;34m\u001b[0m\u001b[0;34m\u001b[0m\u001b[0;34m\u001b[0m\u001b[0m\n\u001b[0;32m----> 6\u001b[0;31m \u001b[0mdf\u001b[0m\u001b[0;34m.\u001b[0m\u001b[0mat\u001b[0m\u001b[0;34m[\u001b[0m\u001b[0;36m5\u001b[0m\u001b[0;34m,\u001b[0m \u001b[0;34m[\u001b[0m\u001b[0;34m'Employment'\u001b[0m\u001b[0;34m,\u001b[0m\u001b[0;34m'Country'\u001b[0m\u001b[0;34m,\u001b[0m\u001b[0;34m'Currency'\u001b[0m\u001b[0;34m]\u001b[0m\u001b[0;34m]\u001b[0m \u001b[0;34m=\u001b[0m \u001b[0;34m[\u001b[0m\u001b[0;34m'self, full-time'\u001b[0m\u001b[0;34m,\u001b[0m\u001b[0;34m'Spain'\u001b[0m\u001b[0;34m,\u001b[0m\u001b[0;34m'US Dollars'\u001b[0m\u001b[0;34m]\u001b[0m\u001b[0;34m\u001b[0m\u001b[0;34m\u001b[0m\u001b[0m\n\u001b[0m\u001b[1;32m      7\u001b[0m \u001b[0;31m#changing multiple row values\u001b[0m\u001b[0;34m\u001b[0m\u001b[0;34m\u001b[0m\u001b[0;34m\u001b[0m\u001b[0m\n",
      "\u001b[0;32m~/opt/anaconda3/lib/python3.8/site-packages/pandas/core/indexing.py\u001b[0m in \u001b[0;36m__setitem__\u001b[0;34m(self, key, value)\u001b[0m\n\u001b[1;32m   2160\u001b[0m             \u001b[0;31m# GH#33041 fall back to .loc\u001b[0m\u001b[0;34m\u001b[0m\u001b[0;34m\u001b[0m\u001b[0;34m\u001b[0m\u001b[0m\n\u001b[1;32m   2161\u001b[0m             \u001b[0;32mif\u001b[0m \u001b[0;32mnot\u001b[0m \u001b[0misinstance\u001b[0m\u001b[0;34m(\u001b[0m\u001b[0mkey\u001b[0m\u001b[0;34m,\u001b[0m \u001b[0mtuple\u001b[0m\u001b[0;34m)\u001b[0m \u001b[0;32mor\u001b[0m \u001b[0;32mnot\u001b[0m \u001b[0mall\u001b[0m\u001b[0;34m(\u001b[0m\u001b[0mis_scalar\u001b[0m\u001b[0;34m(\u001b[0m\u001b[0mx\u001b[0m\u001b[0;34m)\u001b[0m \u001b[0;32mfor\u001b[0m \u001b[0mx\u001b[0m \u001b[0;32min\u001b[0m \u001b[0mkey\u001b[0m\u001b[0;34m)\u001b[0m\u001b[0;34m:\u001b[0m\u001b[0;34m\u001b[0m\u001b[0;34m\u001b[0m\u001b[0m\n\u001b[0;32m-> 2162\u001b[0;31m                 \u001b[0;32mraise\u001b[0m \u001b[0mValueError\u001b[0m\u001b[0;34m(\u001b[0m\u001b[0;34m\"Invalid call for scalar access (setting)!\"\u001b[0m\u001b[0;34m)\u001b[0m\u001b[0;34m\u001b[0m\u001b[0;34m\u001b[0m\u001b[0m\n\u001b[0m\u001b[1;32m   2163\u001b[0m \u001b[0;34m\u001b[0m\u001b[0m\n\u001b[1;32m   2164\u001b[0m             \u001b[0mself\u001b[0m\u001b[0;34m.\u001b[0m\u001b[0mobj\u001b[0m\u001b[0;34m.\u001b[0m\u001b[0mloc\u001b[0m\u001b[0;34m[\u001b[0m\u001b[0mkey\u001b[0m\u001b[0;34m]\u001b[0m \u001b[0;34m=\u001b[0m \u001b[0mvalue\u001b[0m\u001b[0;34m\u001b[0m\u001b[0;34m\u001b[0m\u001b[0m\n",
      "\u001b[0;31mValueError\u001b[0m: Invalid call for scalar access (setting)!"
     ]
    }
   ],
   "source": [
    "df.loc[5, 'US_State'] = 'Texas'\n",
    "#changing a single row value\n",
    "df.loc[5, ['Employment','Country','Currency']] = ['self, full-time','Spain','US Dollars']\n",
    "#changing multiple row values\n",
    "#OR\n",
    "df.at[5, ['Employment','Country','Currency']] = ['self, full-time','Spain','US Dollars']\n",
    "#changing multiple row values"
   ]
  },
  {
   "cell_type": "code",
   "execution_count": null,
   "id": "4bea1b51",
   "metadata": {},
   "outputs": [],
   "source": [
    "df"
   ]
  },
  {
   "cell_type": "code",
   "execution_count": null,
   "id": "c8a54fd9",
   "metadata": {},
   "outputs": [],
   "source": [
    "schema_df = pd.read_csv('data 2021/survey_results_schema.csv', index_col = 'qid')\n",
    "#using value for index"
   ]
  },
  {
   "cell_type": "code",
   "execution_count": null,
   "id": "3444c91e",
   "metadata": {
    "scrolled": true
   },
   "outputs": [],
   "source": [
    "schema_df.head()"
   ]
  },
  {
   "cell_type": "code",
   "execution_count": null,
   "id": "15b7db22",
   "metadata": {},
   "outputs": [],
   "source": [
    "schema_df.sort_index(inplace=True)"
   ]
  },
  {
   "cell_type": "code",
   "execution_count": null,
   "id": "8c3e291c",
   "metadata": {},
   "outputs": [],
   "source": [
    "df['Employment'].value_counts()"
   ]
  },
  {
   "cell_type": "code",
   "execution_count": null,
   "id": "3218320a",
   "metadata": {},
   "outputs": [],
   "source": [
    "df.loc[1:4, 'Employment': 'Age1stCode']\n",
    "#getting location using slicing (:)"
   ]
  },
  {
   "cell_type": "code",
   "execution_count": null,
   "id": "9a350768",
   "metadata": {},
   "outputs": [],
   "source": [
    "high_salary = (df['ConvertedCompYearly'] > 10000)\n",
    "#filtering a column"
   ]
  },
  {
   "cell_type": "code",
   "execution_count": null,
   "id": "f118f914",
   "metadata": {},
   "outputs": [],
   "source": [
    "df.loc[high_salary, ['MainBranch', 'Employment','Age', 'Gender', 'Country','ConvertedCompYearly']]"
   ]
  },
  {
   "cell_type": "code",
   "execution_count": null,
   "id": "92a6502b",
   "metadata": {
    "scrolled": true
   },
   "outputs": [],
   "source": [
    "filt = df['LanguageHaveWorkedWith'].str.contains('Python', na=False)\n",
    "#to filter all those that knows Python"
   ]
  },
  {
   "cell_type": "code",
   "execution_count": null,
   "id": "2125e59d",
   "metadata": {},
   "outputs": [],
   "source": [
    "df.loc[filt, 'LanguageHaveWorkedWith']"
   ]
  },
  {
   "cell_type": "code",
   "execution_count": null,
   "id": "1c3ef903",
   "metadata": {},
   "outputs": [],
   "source": [
    "df.drop(columns=['SurveyLength','SurveyEase', 'OpSys', 'NEWStuck','NEWSOSites'], inplace=True)\n",
    "#dropping colums"
   ]
  },
  {
   "cell_type": "code",
   "execution_count": null,
   "id": "7d300992",
   "metadata": {},
   "outputs": [],
   "source": [
    "df['DatabaseHaveWorkedWith'].value_counts()"
   ]
  },
  {
   "cell_type": "code",
   "execution_count": null,
   "id": "7d3c6903",
   "metadata": {},
   "outputs": [],
   "source": [
    "filt = df['Country'] == 'Slovakia'\n",
    "df.loc[filt]['ToolsTechHaveWorkedWith'].value_counts()\n",
    "#filtering by table"
   ]
  },
  {
   "cell_type": "code",
   "execution_count": null,
   "id": "68738811",
   "metadata": {},
   "outputs": [],
   "source": [
    "Country_grp = df.groupby(['Country'])\n",
    "#using group by single column"
   ]
  },
  {
   "cell_type": "code",
   "execution_count": null,
   "id": "1130e46c",
   "metadata": {},
   "outputs": [],
   "source": [
    "Country_grp.get_group('Slovakia')\n",
    "#using group by single country"
   ]
  },
  {
   "cell_type": "code",
   "execution_count": null,
   "id": "bc2d57d1",
   "metadata": {},
   "outputs": [],
   "source": [
    "Country_grp['ConvertedCompYearly'].median()"
   ]
  },
  {
   "cell_type": "code",
   "execution_count": null,
   "id": "f6509b68",
   "metadata": {},
   "outputs": [],
   "source": [
    "Country_grp['ConvertedCompYearly'].agg(['median', 'mean']).loc['Canada']\n",
    "#using aggregate function plus location to filter"
   ]
  },
  {
   "cell_type": "code",
   "execution_count": null,
   "id": "d0aca021",
   "metadata": {},
   "outputs": [],
   "source": [
    "filt = df['Country'] == 'Slovakia'\n",
    "df.loc[filt]['LanguageHaveWorkedWith'].str.contains('Python').sum()\n",
    "#using location plus string method and sum on boolean"
   ]
  },
  {
   "cell_type": "code",
   "execution_count": null,
   "id": "a98a8897",
   "metadata": {},
   "outputs": [],
   "source": [
    "Country_grp['LanguageHaveWorkedWith'].apply(lambda x: x.str.contains('Python').sum())\n",
    "#apply method can only be used with groupby to filter"
   ]
  },
  {
   "cell_type": "code",
   "execution_count": null,
   "id": "0fda2fce",
   "metadata": {},
   "outputs": [],
   "source": [
    "country_respondents = df['Country'].value_counts()\n",
    "country_respondents"
   ]
  },
  {
   "cell_type": "code",
   "execution_count": null,
   "id": "88ff4ac9",
   "metadata": {},
   "outputs": [],
   "source": [
    "country_uses_Python = Country_grp['LanguageHaveWorkedWith'].apply(lambda x: x.str.contains('Python').sum())\n",
    "country_uses_Python"
   ]
  },
  {
   "cell_type": "code",
   "execution_count": null,
   "id": "9e20bfb7",
   "metadata": {},
   "outputs": [],
   "source": [
    "Combining_Python_Users = pd.concat([country_respondents, country_uses_Python], axis='columns', sort=False)\n",
    "Combining_Python_Users\n",
    "#using concat to join dataframe"
   ]
  },
  {
   "cell_type": "code",
   "execution_count": null,
   "id": "04d9fc0d",
   "metadata": {},
   "outputs": [],
   "source": [
    "Combining_Python_Users.rename(columns={'Country': 'NumRespondents', 'LanguageHaveWorkedWith' : 'NumKnowsPython'}, inplace=True)\n",
    "#renaming the columns"
   ]
  },
  {
   "cell_type": "code",
   "execution_count": null,
   "id": "dc1e133c",
   "metadata": {},
   "outputs": [],
   "source": [
    "Combining_Python_Users"
   ]
  },
  {
   "cell_type": "code",
   "execution_count": null,
   "id": "2bf0ad6f",
   "metadata": {},
   "outputs": [],
   "source": [
    "Combining_Python_Users['PctKnowsPython'] = (Combining_Python_Users['NumKnowsPython']/Combining_Python_Users['NumRespondents']) * 100\n",
    "#creating new column in percentage "
   ]
  },
  {
   "cell_type": "code",
   "execution_count": null,
   "id": "0b970458",
   "metadata": {},
   "outputs": [],
   "source": [
    "Combining_Python_Users"
   ]
  },
  {
   "cell_type": "code",
   "execution_count": null,
   "id": "3357eff0",
   "metadata": {},
   "outputs": [],
   "source": [
    "Combining_Python_Users.sort_values(by='PctKnowsPython', ascending=False, inplace=True)"
   ]
  },
  {
   "cell_type": "code",
   "execution_count": null,
   "id": "086d4c6b",
   "metadata": {
    "scrolled": true
   },
   "outputs": [],
   "source": [
    "Combining_Python_Users"
   ]
  },
  {
   "cell_type": "code",
   "execution_count": 15,
   "id": "9d097209",
   "metadata": {},
   "outputs": [
    {
     "data": {
      "text/plain": [
       "ResponseId\n",
       "1     NaN\n",
       "2       7\n",
       "3     NaN\n",
       "4     NaN\n",
       "5      17\n",
       "6     NaN\n",
       "7       3\n",
       "8       4\n",
       "9       6\n",
       "10      7\n",
       "Name: YearsCode, dtype: object"
      ]
     },
     "execution_count": 15,
     "metadata": {},
     "output_type": "execute_result"
    }
   ],
   "source": [
    "df['YearsCode'].head(10)"
   ]
  },
  {
   "cell_type": "code",
   "execution_count": 36,
   "id": "9b5d62a4",
   "metadata": {},
   "outputs": [
    {
     "data": {
      "text/plain": [
       "array([nan, '7', '17', '3', '4', '6', '16', '12', '15', '10', '40', '9',\n",
       "       '26', '14', '39', '20', '8', '19', '5', 0, '22', '2', '1', '34',\n",
       "       '21', '13', '25', '24', '30', '31', '18', '38', 51, '27', '41',\n",
       "       '42', '35', '23', '28', '11', '37', '44', '43', '36', '33', '45',\n",
       "       '29', '50', '46', '32', '47', '49', '48'], dtype=object)"
      ]
     },
     "execution_count": 36,
     "metadata": {},
     "output_type": "execute_result"
    }
   ],
   "source": [
    "df['YearsCode'].unique() \n",
    "#viewing all unique values and replace all objects values to strings value "
   ]
  },
  {
   "cell_type": "code",
   "execution_count": 35,
   "id": "90c77ff3",
   "metadata": {},
   "outputs": [],
   "source": [
    "df['YearsCode'].replace('Less than 1 year', 0,  inplace=True)"
   ]
  },
  {
   "cell_type": "code",
   "execution_count": 33,
   "id": "6ee465d7",
   "metadata": {},
   "outputs": [],
   "source": [
    "df['YearsCode'].replace('More than 50 years', 51,  inplace=True)"
   ]
  },
  {
   "cell_type": "code",
   "execution_count": 38,
   "id": "02c76b74",
   "metadata": {},
   "outputs": [],
   "source": [
    "df['YearsCode']=df['YearsCode'].astype(float)"
   ]
  },
  {
   "cell_type": "code",
   "execution_count": 39,
   "id": "956552e1",
   "metadata": {},
   "outputs": [
    {
     "data": {
      "text/plain": [
       "12.338200169032717"
      ]
     },
     "execution_count": 39,
     "metadata": {},
     "output_type": "execute_result"
    }
   ],
   "source": [
    "df['YearsCode'].mean()"
   ]
  },
  {
   "cell_type": "code",
   "execution_count": 40,
   "id": "9e72dcad",
   "metadata": {},
   "outputs": [
    {
     "data": {
      "text/plain": [
       "10.0"
      ]
     },
     "execution_count": 40,
     "metadata": {},
     "output_type": "execute_result"
    }
   ],
   "source": [
    "df['YearsCode'].median()"
   ]
  },
  {
   "cell_type": "code",
   "execution_count": null,
   "id": "e376d5dc",
   "metadata": {},
   "outputs": [],
   "source": []
  }
 ],
 "metadata": {
  "kernelspec": {
   "display_name": "Python 3",
   "language": "python",
   "name": "python3"
  },
  "language_info": {
   "codemirror_mode": {
    "name": "ipython",
    "version": 3
   },
   "file_extension": ".py",
   "mimetype": "text/x-python",
   "name": "python",
   "nbconvert_exporter": "python",
   "pygments_lexer": "ipython3",
   "version": "3.8.8"
  }
 },
 "nbformat": 4,
 "nbformat_minor": 5
}
